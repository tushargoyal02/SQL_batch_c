{
 "cells": [
  {
   "cell_type": "code",
   "execution_count": 1,
   "id": "a8ed3bff",
   "metadata": {},
   "outputs": [],
   "source": [
    "# nested if else\n",
    "# loops\n",
    "\n"
   ]
  },
  {
   "cell_type": "code",
   "execution_count": 2,
   "id": "b3a9c311",
   "metadata": {},
   "outputs": [],
   "source": [
    "age=18\n",
    "city=\"Jaipur\"\n",
    "# if age>=18   => (Age is eligible)\n",
    "# eligible for vote\n",
    "\n"
   ]
  },
  {
   "cell_type": "code",
   "execution_count": 6,
   "id": "93daf017",
   "metadata": {},
   "outputs": [
    {
     "name": "stdout",
     "output_type": "stream",
     "text": [
      "Age is eligible\n",
      "Not eligible for voting\n"
     ]
    }
   ],
   "source": [
    "age=18\n",
    "city=\"Jaipur\"\n",
    "if(age>=18):\n",
    "    print(\"Age is eligible\")\n",
    "    \n",
    "    if(city==\"jaipur\"):\n",
    "        print(\"Eligible for voting\")\n",
    "    else:\n",
    "        print(\"Not eligible for voting\")\n",
    "else:\n",
    "    print(\"age is less than 18\")"
   ]
  },
  {
   "cell_type": "code",
   "execution_count": 8,
   "id": "304f0de0",
   "metadata": {},
   "outputs": [
    {
     "data": {
      "text/plain": [
       "'\\nfor(i=0; i<condition ;i++)\\n\\ni=0\\nwhile(i<condition):\\n    i++\\n    \\n# for loop => \\n'"
      ]
     },
     "execution_count": 8,
     "metadata": {},
     "output_type": "execute_result"
    }
   ],
   "source": [
    "# looping statement\n",
    "\n",
    "# for , while\n",
    "'''\n",
    "for(i=0; i<condition ;i++)\n",
    "\n",
    "i=0\n",
    "while(i<condition):\n",
    "    i++\n",
    "    \n",
    "# for loop => \n",
    "'''"
   ]
  },
  {
   "cell_type": "code",
   "execution_count": null,
   "id": "793260cf",
   "metadata": {},
   "outputs": [],
   "source": [
    "\n"
   ]
  },
  {
   "cell_type": "code",
   "execution_count": 13,
   "id": "9e0f428e",
   "metadata": {},
   "outputs": [
    {
     "name": "stdout",
     "output_type": "stream",
     "text": [
      "1\n",
      "4\n",
      "7\n"
     ]
    }
   ],
   "source": [
    "#using range \n",
    "# 0 upto  5  ( 5 is exlcusive)\n",
    "# for(i=0; i<5; i++)\n",
    "# range(start  , stop ,  [step=1] )\n",
    "\n",
    "for i in range(1,10,3):\n",
    "    print(i)"
   ]
  },
  {
   "cell_type": "code",
   "execution_count": 14,
   "id": "2a0ebd80",
   "metadata": {},
   "outputs": [
    {
     "name": "stdout",
     "output_type": "stream",
     "text": [
      "0\n",
      "1\n",
      "2\n",
      "3\n",
      "4\n"
     ]
    }
   ],
   "source": [
    "for i in range(0,5,1):\n",
    "    print(i)"
   ]
  },
  {
   "cell_type": "code",
   "execution_count": 20,
   "id": "33aa463c",
   "metadata": {},
   "outputs": [
    {
     "name": "stdout",
     "output_type": "stream",
     "text": [
      "5\n",
      "4\n",
      "3\n",
      "2\n",
      "1\n",
      "0\n"
     ]
    }
   ],
   "source": [
    "for i in range(5,-1,-1):\n",
    "    print(i)"
   ]
  },
  {
   "cell_type": "code",
   "execution_count": 25,
   "id": "7b2d5b7c",
   "metadata": {},
   "outputs": [
    {
     "name": "stdout",
     "output_type": "stream",
     "text": [
      "3\n",
      "6\n",
      "9\n",
      "12\n",
      "15\n",
      "18\n",
      "21\n",
      "24\n",
      "27\n",
      "30\n",
      "33\n",
      "36\n",
      "39\n"
     ]
    }
   ],
   "source": [
    "'''\n",
    "for(i=1; i<10; i++){\n",
    "  sum=0\n",
    "  sum = sum+i\n",
    "}\n",
    "'''\n",
    "\n",
    "# for i in range(1,11)\n",
    "for count in range(1,41):\n",
    "    if(count%3==0):\n",
    "        print(count)"
   ]
  },
  {
   "cell_type": "code",
   "execution_count": 31,
   "id": "bdb24ed6",
   "metadata": {},
   "outputs": [
    {
     "name": "stdout",
     "output_type": "stream",
     "text": [
      "55\n"
     ]
    }
   ],
   "source": [
    "sum=0\n",
    "\n",
    "for i in range(1,11):\n",
    "    sum=sum+i\n",
    "print(sum)"
   ]
  },
  {
   "cell_type": "code",
   "execution_count": 33,
   "id": "ed8c4c2e",
   "metadata": {},
   "outputs": [
    {
     "name": "stdout",
     "output_type": "stream",
     "text": [
      "40320\n"
     ]
    }
   ],
   "source": [
    "#product of all the number from 8 to 1\n",
    "# 8*7*6*5*4*3*2*1\n",
    "p1=1\n",
    "for i in range(8,0,-1):\n",
    "    p1 *=i\n",
    "print(p1)"
   ]
  },
  {
   "cell_type": "code",
   "execution_count": 35,
   "id": "b26a2f3d",
   "metadata": {},
   "outputs": [
    {
     "name": "stdout",
     "output_type": "stream",
     "text": [
      "h\n",
      "e\n",
      "y\n"
     ]
    }
   ],
   "source": [
    "\n",
    "\n",
    "for  x in \"hey\":\n",
    "    print(x)"
   ]
  },
  {
   "cell_type": "code",
   "execution_count": 36,
   "id": "b6da4d18",
   "metadata": {},
   "outputs": [
    {
     "name": "stdout",
     "output_type": "stream",
     "text": [
      "J\n",
      "a\n",
      "i\n",
      "p\n",
      "u\n",
      "r\n"
     ]
    }
   ],
   "source": [
    "data=\"Jaipur\"\n",
    "\n",
    "for  x in data:\n",
    "    print(x)"
   ]
  },
  {
   "cell_type": "code",
   "execution_count": 38,
   "id": "d35ec858",
   "metadata": {},
   "outputs": [
    {
     "data": {
      "text/plain": [
       "6"
      ]
     },
     "execution_count": 38,
     "metadata": {},
     "output_type": "execute_result"
    }
   ],
   "source": [
    "len(\"Jaipur\")"
   ]
  },
  {
   "cell_type": "code",
   "execution_count": 46,
   "id": "af18bb96",
   "metadata": {},
   "outputs": [
    {
     "name": "stdout",
     "output_type": "stream",
     "text": [
      "0 J\n",
      "1 a\n",
      "2 i\n",
      "3 p\n",
      "4 a\n",
      "5 u\n",
      "6 r\n",
      "7 a\n"
     ]
    }
   ],
   "source": [
    "# vowel are  ( a,e,i,o,u)\n",
    "city=\"Jaipaura\"\n",
    "\n",
    "for index in range(0,len(city) ):\n",
    "    print(index, city[index])"
   ]
  },
  {
   "cell_type": "code",
   "execution_count": 50,
   "id": "0a245bca",
   "metadata": {},
   "outputs": [
    {
     "name": "stdout",
     "output_type": "stream",
     "text": [
      "Vowel a\n",
      "Vowel i\n",
      "2\n"
     ]
    }
   ],
   "source": [
    "total=0\n",
    "for i in \"jaipr\":\n",
    "    if(i==\"a\" or i=='e' or i=='i' or i=='o' or i=='u'):\n",
    "        print(\"Vowel\",i)\n",
    "        total +=1\n",
    "        \n",
    "print(total)"
   ]
  },
  {
   "cell_type": "code",
   "execution_count": null,
   "id": "d3941caa",
   "metadata": {},
   "outputs": [],
   "source": [
    "#1 Run for loop and find the total sum of first 20 natural numbers\n",
    "#2 Run for loop and find the total sum of last 20  3 digit natural numbers\n",
    "#3 Run for loop and find the product & average of any 20 natural numbers\n",
    "#4 print a multiplication table of a number given by a user\n",
    "#5 find out the sum of the power of starting 6 number\n",
    "  # 2**6\n",
    "    # 2**1  +2 **2 +2**3  ......2**6\n",
    "\n",
    "#6take a string from the user and find out the total consonent which are available\n",
    "# in a string\n",
    "\n",
    "\n",
    "# 7take a int number from the user and find out the total sum, average\n",
    "# and the product of that numbers from 1 to the input provided only for odd values\n"
   ]
  }
 ],
 "metadata": {
  "kernelspec": {
   "display_name": "Python 3 (ipykernel)",
   "language": "python",
   "name": "python3"
  },
  "language_info": {
   "codemirror_mode": {
    "name": "ipython",
    "version": 3
   },
   "file_extension": ".py",
   "mimetype": "text/x-python",
   "name": "python",
   "nbconvert_exporter": "python",
   "pygments_lexer": "ipython3",
   "version": "3.10.11"
  }
 },
 "nbformat": 4,
 "nbformat_minor": 5
}
