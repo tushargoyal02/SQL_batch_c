{
 "cells": [
  {
   "cell_type": "code",
   "execution_count": 1,
   "id": "7439f94e",
   "metadata": {},
   "outputs": [],
   "source": [
    "# nested loop"
   ]
  },
  {
   "cell_type": "code",
   "execution_count": 2,
   "id": "049ad31b",
   "metadata": {},
   "outputs": [],
   "source": [
    "#"
   ]
  },
  {
   "cell_type": "code",
   "execution_count": 6,
   "id": "3d0bc297",
   "metadata": {},
   "outputs": [
    {
     "data": {
      "text/plain": [
       "99"
      ]
     },
     "execution_count": 6,
     "metadata": {},
     "output_type": "execute_result"
    }
   ],
   "source": [
    "ord(\"c\")"
   ]
  },
  {
   "cell_type": "code",
   "execution_count": 8,
   "id": "1f52c385",
   "metadata": {},
   "outputs": [
    {
     "data": {
      "text/plain": [
       "'\\nA\\nAB\\nABC\\n\\nchr(65)\\n65 66\\n65 66 67\\n'"
      ]
     },
     "execution_count": 8,
     "metadata": {},
     "output_type": "execute_result"
    }
   ],
   "source": [
    "# Ascii\n",
    "'''\n",
    "A\n",
    "AB\n",
    "ABC\n",
    "\n",
    "chr(65)\n",
    "65 66\n",
    "65 66 67\n",
    "'''\n",
    "\n"
   ]
  },
  {
   "cell_type": "code",
   "execution_count": 9,
   "id": "79b4de3b",
   "metadata": {},
   "outputs": [],
   "source": [
    "# nested loop"
   ]
  },
  {
   "cell_type": "code",
   "execution_count": 15,
   "id": "96419ee3",
   "metadata": {},
   "outputs": [
    {
     "name": "stdout",
     "output_type": "stream",
     "text": [
      "1 \n",
      "2 4 \n",
      "8 16 32 \n"
     ]
    }
   ],
   "source": [
    "'''\n",
    "1\n",
    "2 4\n",
    "8 16  32\n",
    "\n",
    "'''\n",
    "count=1\n",
    "for  i in range(1,4):\n",
    "    for j in range(1,i+1):\n",
    "        print(count, end=\" \")\n",
    "        count*=2\n",
    "        \n",
    "    print(\"\")"
   ]
  },
  {
   "cell_type": "code",
   "execution_count": 24,
   "id": "646dc6df",
   "metadata": {},
   "outputs": [
    {
     "name": "stdout",
     "output_type": "stream",
     "text": [
      "* * * * \n",
      "Z * * * \n",
      "Z Z * * \n",
      "Z Z Z * \n"
     ]
    }
   ],
   "source": [
    "for i in range(1,5):\n",
    "\n",
    "    for j in range(1,i):\n",
    "        print(\"Z\", end=\" \")\n",
    "        \n",
    "    for k in range(i,5):\n",
    "        print(\"*\",end=\" \")\n",
    "    \n",
    "        \n",
    "    print(\"\")"
   ]
  },
  {
   "cell_type": "code",
   "execution_count": 30,
   "id": "04f62014",
   "metadata": {},
   "outputs": [
    {
     "name": "stdout",
     "output_type": "stream",
     "text": [
      "1 2 3 4 \n",
      "  5 6 7 \n",
      "    8 9 \n",
      "      10 \n"
     ]
    }
   ],
   "source": [
    "count=1\n",
    "for i in range(1,5):\n",
    "\n",
    "    for j in range(1,i):\n",
    "        print(\" \", end=\" \")\n",
    "        \n",
    "    for k in range(i,5):\n",
    "        print(count,end=\" \")\n",
    "        count+=1\n",
    "    \n",
    "        \n",
    "    print(\"\")"
   ]
  },
  {
   "cell_type": "code",
   "execution_count": 31,
   "id": "cdcdfca5",
   "metadata": {},
   "outputs": [
    {
     "name": "stdout",
     "output_type": "stream",
     "text": [
      "1 2 3 4 \n",
      "  1 2 3 \n",
      "    1 2 \n",
      "      1 \n"
     ]
    }
   ],
   "source": [
    "\n",
    "for i in range(1,5):\n",
    "    count=1\n",
    "    for j in range(1,i):\n",
    "        print(\" \", end=\" \")\n",
    "        \n",
    "    for k in range(i,5):\n",
    "        print(count,end=\" \")\n",
    "        count+=1\n",
    "    \n",
    "        \n",
    "    print(\"\")"
   ]
  },
  {
   "cell_type": "code",
   "execution_count": 39,
   "id": "abb77ec1",
   "metadata": {},
   "outputs": [
    {
     "name": "stdout",
     "output_type": "stream",
     "text": [
      "*\n",
      "**\n",
      "* *\n",
      "*  *\n",
      "*****\n"
     ]
    }
   ],
   "source": [
    "for i in range(1,6):\n",
    "    for j in range(1,i+1):\n",
    "        if(j==1 or i==5 or i==j):\n",
    "            print(\"*\", end=\"\")\n",
    "        else:\n",
    "            print(\" \",end=\"\")\n",
    "    print(\"\")"
   ]
  },
  {
   "cell_type": "code",
   "execution_count": null,
   "id": "c50b6b3c",
   "metadata": {},
   "outputs": [],
   "source": []
  }
 ],
 "metadata": {
  "kernelspec": {
   "display_name": "Python 3 (ipykernel)",
   "language": "python",
   "name": "python3"
  },
  "language_info": {
   "codemirror_mode": {
    "name": "ipython",
    "version": 3
   },
   "file_extension": ".py",
   "mimetype": "text/x-python",
   "name": "python",
   "nbconvert_exporter": "python",
   "pygments_lexer": "ipython3",
   "version": "3.10.11"
  }
 },
 "nbformat": 4,
 "nbformat_minor": 5
}
